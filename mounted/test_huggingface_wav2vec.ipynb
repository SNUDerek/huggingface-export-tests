{
 "cells": [
  {
   "cell_type": "markdown",
   "id": "34123c5f",
   "metadata": {
    "tags": []
   },
   "source": [
    "# References\n",
    "\n",
    "- (torch) https://pytorch.org/docs/stable/generated/torch.jit.optimize_for_inference.html\n",
    "- (reproducibility) https://pytorch.org/docs/stable/notes/randomness.html\n",
    "- (torchscript) https://pytorch.org/tutorials/beginner/Intro_to_TorchScript_tutorial.html\n",
    "- (onnx export) https://pytorch.org/tutorials/advanced/super_resolution_with_onnxruntime.html\n",
    "- (import example) https://colab.research.google.com/github/PyThaiNLP/tutorials/blob/master/source/notebooks/thai_wav2vec2_onnx.ipynb#scrollTo=5-lBGrVVj0i_\n",
    "- (onnx FP16) https://github.com/onnx/onnx-docker/blob/master/onnx-ecosystem/converter_scripts/float32_float16_onnx.ipynb\n",
    "- (onnxruntime) https://onnxruntime.ai/docs/get-started/with-python.html\n",
    "- (tensorrt saving, inference) https://developer.nvidia.com/blog/speeding-up-deep-learning-inference-using-tensorflow-onnx-and-tensorrt/\n",
    "- (tensorrt inference, fixed) https://stackoverflow.com/questions/59280745/inference-with-tensorrt-engine-file-on-python\n",
    "- (torch-tensorrt) https://developer.nvidia.com/blog/accelerating-inference-up-to-6x-faster-in-pytorch-with-torch-tensorrt/\n",
    "- (torch-tensorrt python) https://nvidia.github.io/Torch-TensorRT/tutorials/getting_started_with_python_api.html\n",
    "- model info: https://huggingface.co/facebook/wav2vec2-base-960h"
   ]
  },
  {
   "cell_type": "code",
   "execution_count": 1,
   "id": "bef2c6d1-2733-480e-a305-ac6583678d32",
   "metadata": {},
   "outputs": [],
   "source": [
    "%matplotlib inline"
   ]
  },
  {
   "cell_type": "code",
   "execution_count": 2,
   "id": "4daa0adc-73ad-4dd3-bfe8-434d7ef75d64",
   "metadata": {},
   "outputs": [],
   "source": [
    "# for reproducibility with CUDA 11+ and GPU inference\n",
    "import os\n",
    "os.environ['CUBLAS_WORKSPACE_CONFIG']=':4096:8'"
   ]
  },
  {
   "cell_type": "code",
   "execution_count": 3,
   "id": "10cc88d9",
   "metadata": {},
   "outputs": [],
   "source": [
    "import copy\n",
    "import matplotlib.pyplot as plt\n",
    "import numpy as np\n",
    "import onnx\n",
    "import onnxmltools\n",
    "import onnxruntime\n",
    "import pycuda.driver as cuda\n",
    "import pycuda.autoinit \n",
    "import random\n",
    "import time\n",
    "import tensorrt as trt\n",
    "import torch\n",
    "import torch.onnx\n",
    "import torch_tensorrt\n",
    "import torch.backends.cudnn as cudnn\n",
    "import tqdm\n",
    "import seaborn as sns\n",
    "import soundfile as sf\n",
    "\n",
    "from datasets import load_dataset\n",
    "from datasets import load_metric\n",
    "from torchaudio.models.wav2vec2.utils import import_huggingface_model\n",
    "from transformers import Wav2Vec2Processor, Wav2Vec2ForCTC\n",
    "from pynvml import *\n",
    "nvmlInit()\n"
   ]
  },
  {
   "cell_type": "code",
   "execution_count": 4,
   "id": "6c9ece0c-8d51-434c-891f-0863c596b6a1",
   "metadata": {},
   "outputs": [],
   "source": [
    "# reduce randomness for reproducibility\n",
    "torch.manual_seed(1337)\n",
    "random.seed(1337)\n",
    "np.random.seed(1337)\n",
    "# torch.use_deterministic_algorithms(True) # error with cuda 11+"
   ]
  },
  {
   "cell_type": "markdown",
   "id": "8abf1897-d863-406b-a5ba-813f633055d4",
   "metadata": {},
   "source": [
    "### check import versions, cuda support"
   ]
  },
  {
   "cell_type": "code",
   "execution_count": 5,
   "id": "5b7e91f1-bf6b-4f97-9923-bd49dabd271e",
   "metadata": {},
   "outputs": [
    {
     "name": "stdout",
     "output_type": "stream",
     "text": [
      "ii  libnvinfer-bin                  8.2.1-1+cuda11.4                  amd64        TensorRT binaries\n",
      "ii  libnvinfer-dev                  8.2.1-1+cuda11.4                  amd64        TensorRT development libraries and headers\n",
      "ii  libnvinfer-plugin-dev           8.2.1-1+cuda11.4                  amd64        TensorRT plugin libraries and headers\n",
      "ii  libnvinfer-plugin8              8.2.1-1+cuda11.4                  amd64        TensorRT plugin library\n",
      "ii  libnvinfer8                     8.2.1-1+cuda11.4                  amd64        TensorRT runtime libraries\n"
     ]
    }
   ],
   "source": [
    "!dpkg -l | grep nvinfer"
   ]
  },
  {
   "cell_type": "code",
   "execution_count": 6,
   "id": "3dfdcdf2",
   "metadata": {},
   "outputs": [
    {
     "name": "stdout",
     "output_type": "stream",
     "text": [
      "pytorch version: 1.10.1+cu113\n",
      "pytorch cuda?  : True\n"
     ]
    }
   ],
   "source": [
    "print(\"pytorch version:\", torch.__version__)\n",
    "print(\"pytorch cuda?  :\", torch.cuda.is_available())"
   ]
  },
  {
   "cell_type": "code",
   "execution_count": 7,
   "id": "6addd82a-b124-4055-869e-41d58ffa7c36",
   "metadata": {},
   "outputs": [
    {
     "name": "stdout",
     "output_type": "stream",
     "text": [
      "onnxruntime version: 1.9.0\n",
      "onnxruntime device : GPU\n"
     ]
    }
   ],
   "source": [
    "print(\"onnxruntime version:\", onnxruntime.__version__)\n",
    "print(\"onnxruntime device :\", onnxruntime.get_device())"
   ]
  },
  {
   "cell_type": "code",
   "execution_count": 8,
   "id": "63834519-cd94-4e65-b2a3-09343a8ed1b7",
   "metadata": {},
   "outputs": [
    {
     "name": "stdout",
     "output_type": "stream",
     "text": [
      "GPU 0 stats:\n",
      "total    : 11534336.00 MB\n",
      "free     : 11125440.00 MB\n",
      "used     :   408896.00 MB\n"
     ]
    }
   ],
   "source": [
    "h = nvmlDeviceGetHandleByIndex(0)\n",
    "info = nvmlDeviceGetMemoryInfo(h)\n",
    "print(\"GPU 0 stats:\")\n",
    "print(f'total    : {info.total/1024.:>11.2f} MB')\n",
    "print(f'free     : {info.free/1024.:>11.2f} MB')\n",
    "print(f'used     : {info.used/1024.:>11.2f} MB')"
   ]
  },
  {
   "cell_type": "markdown",
   "id": "c34e9c25-5152-4540-b6d7-5844345ba5a4",
   "metadata": {
    "tags": []
   },
   "source": [
    "## export HuggingFace to PyTorch\n",
    "\n",
    "huggingface has a direct onnx export, but it only supports some model types, not including wav2vec.\n",
    "\n",
    "`torchaudio` has a utility to import HuggingFace Wav2Vec2 models, so we'll import the model to pytorch and export with pyotrch's onnx export"
   ]
  },
  {
   "cell_type": "code",
   "execution_count": 9,
   "id": "15df278c-ac6b-40da-ac4e-2ef8fdc35092",
   "metadata": {},
   "outputs": [
    {
     "name": "stderr",
     "output_type": "stream",
     "text": [
      "Reusing dataset librispeech_asr (/root/.cache/huggingface/datasets/hf-internal-testing___librispeech_asr/clean/2.1.0/f2c70a4d03ab4410954901bde48c54b85ca1b7f9bf7d616e7e2a72b5ee6ddbfc)\n"
     ]
    },
    {
     "data": {
      "application/vnd.jupyter.widget-view+json": {
       "model_id": "9a6de4a4871748518e7da52e58a66924",
       "version_major": 2,
       "version_minor": 0
      },
      "text/plain": [
       "  0%|          | 0/1 [00:00<?, ?it/s]"
      ]
     },
     "metadata": {},
     "output_type": "display_data"
    }
   ],
   "source": [
    "# sample data for testing\n",
    "dataset = load_dataset(\"hf-internal-testing/librispeech_asr_dummy\", \"clean\")"
   ]
  },
  {
   "cell_type": "code",
   "execution_count": 10,
   "id": "2740f23d-f3ec-44b4-bd7c-5db71667e6df",
   "metadata": {},
   "outputs": [
    {
     "data": {
      "text/plain": [
       "(93680,)"
      ]
     },
     "execution_count": 10,
     "metadata": {},
     "output_type": "execute_result"
    }
   ],
   "source": [
    "dataset['validation'][0][\"audio\"][\"array\"].shape"
   ]
  },
  {
   "cell_type": "code",
   "execution_count": 11,
   "id": "7d806022",
   "metadata": {},
   "outputs": [],
   "source": [
    "# dummy input\n",
    "AUDIO_MAXLEN = 100000\n",
    "dummy_input = torch.randn(1, AUDIO_MAXLEN, requires_grad=True)"
   ]
  },
  {
   "cell_type": "code",
   "execution_count": 12,
   "id": "8a3ebdea",
   "metadata": {},
   "outputs": [
    {
     "name": "stderr",
     "output_type": "stream",
     "text": [
      "Some weights of Wav2Vec2ForCTC were not initialized from the model checkpoint at facebook/wav2vec2-base-960h and are newly initialized: ['wav2vec2.masked_spec_embed']\n",
      "You should probably TRAIN this model on a down-stream task to be able to use it for predictions and inference.\n"
     ]
    }
   ],
   "source": [
    "# (down)load model and tokenizer\n",
    "processor = Wav2Vec2Processor.from_pretrained(\"facebook/wav2vec2-base-960h\")\n",
    "hugging_model = Wav2Vec2ForCTC.from_pretrained(\"facebook/wav2vec2-base-960h\")"
   ]
  },
  {
   "cell_type": "code",
   "execution_count": 13,
   "id": "3122823e-034b-43b7-8687-69eaa12b01b8",
   "metadata": {},
   "outputs": [],
   "source": [
    "# import as native pytorch model\n",
    "_ = hugging_model.eval()\n",
    "imported_model = import_huggingface_model(hugging_model)\n",
    "gpu_model = import_huggingface_model(hugging_model)\n",
    "_ = imported_model.eval()\n",
    "_ = gpu_model.eval()"
   ]
  },
  {
   "cell_type": "code",
   "execution_count": 14,
   "id": "d6685979-596f-4f5b-bf47-780b07dde545",
   "metadata": {},
   "outputs": [
    {
     "name": "stdout",
     "output_type": "stream",
     "text": [
      "(1, 100000)\n"
     ]
    },
    {
     "data": {
      "text/plain": [
       "<AxesSubplot:>"
      ]
     },
     "execution_count": 14,
     "metadata": {},
     "output_type": "execute_result"
    },
    {
     "data": {
      "image/png": "[encoded data removed]",
      "text/plain": [
       "<Figure size 1440x288 with 1 Axes>"
      ]
     },
     "metadata": {
      "needs_background": "light"
     },
     "output_type": "display_data"
    }
   ],
   "source": [
    "# fix input for all tests using sample librispeech data\n",
    "speech_input = np.expand_dims(np.pad(dataset['validation'][0][\"audio\"][\"array\"][:AUDIO_MAXLEN], (0, AUDIO_MAXLEN-len(dataset['validation'][0][\"audio\"][\"array\"][:AUDIO_MAXLEN]))), 0)\n",
    "print(speech_input.shape)\n",
    "plt.rcParams[\"figure.figsize\"] = (20,4)\n",
    "sns.lineplot(data=speech_input[0])"
   ]
  },
  {
   "cell_type": "markdown",
   "id": "95a2f5cd-3df2-46f9-bb34-54337c38eaf6",
   "metadata": {},
   "source": [
    "### compare model outputs"
   ]
  },
  {
   "cell_type": "code",
   "execution_count": 15,
   "id": "42ecbcb1-2539-49dc-a674-cf194a8e2b22",
   "metadata": {},
   "outputs": [
    {
     "name": "stdout",
     "output_type": "stream",
     "text": [
      "(1, 312, 32)\n"
     ]
    }
   ],
   "source": [
    "hugging_model.to(\"cuda\")\n",
    "r = hugging_model(torch.from_numpy(speech_input).to(\"cuda\"))\n",
    "hugging_prediction = r.logits.detach().cpu().numpy()\n",
    "print(hugging_prediction.shape)"
   ]
  },
  {
   "cell_type": "code",
   "execution_count": 16,
   "id": "48a4d8c7-ef1e-4d9c-be00-7270a7ea1330",
   "metadata": {},
   "outputs": [
    {
     "name": "stdout",
     "output_type": "stream",
     "text": [
      "True\n"
     ]
    }
   ],
   "source": [
    "gpu_model.to(\"cuda\")\n",
    "_ = gpu_model.eval()\n",
    "print(next(gpu_model.parameters()).is_cuda)"
   ]
  },
  {
   "cell_type": "code",
   "execution_count": 17,
   "id": "1bf0b9f4-17e0-429a-96fc-2aa578b71371",
   "metadata": {},
   "outputs": [
    {
     "name": "stdout",
     "output_type": "stream",
     "text": [
      "(1, 312, 32)\n"
     ]
    }
   ],
   "source": [
    "torch_prediction = gpu_model(torch.from_numpy(speech_input).to(\"cuda\"))[0].detach().cpu().numpy()\n",
    "print(torch_prediction.shape)"
   ]
  },
  {
   "cell_type": "code",
   "execution_count": 18,
   "id": "e50f76bc-bbc1-4f8b-803d-3119f8e59520",
   "metadata": {},
   "outputs": [
    {
     "name": "stdout",
     "output_type": "stream",
     "text": [
      "True\n"
     ]
    }
   ],
   "source": [
    "print(np.allclose(hugging_prediction, torch_prediction))"
   ]
  },
  {
   "cell_type": "markdown",
   "id": "ab6a8631-06b9-49cf-8352-14cf8eec8e21",
   "metadata": {},
   "source": [
    "## export PyTorch to ONNX"
   ]
  },
  {
   "cell_type": "code",
   "execution_count": 19,
   "id": "59624955",
   "metadata": {},
   "outputs": [
    {
     "name": "stderr",
     "output_type": "stream",
     "text": [
      "/usr/local/lib/python3.8/dist-packages/torch/nn/functional.py:2359: UserWarning: __floordiv__ is deprecated, and its behavior will change in a future version of pytorch. It currently rounds toward 0 (like the 'trunc' function NOT 'floor'). This results in incorrect rounding for negative values. To keep the current behavior, use torch.div(a, b, rounding_mode='trunc'), or for actual floor division, use torch.div(a, b, rounding_mode='floor').\n",
      "  _verify_batch_size([input.size(0) * input.size(1) // num_groups, num_groups] + list(input.size()[2:]))\n",
      "/usr/local/lib/python3.8/dist-packages/torch/onnx/symbolic_helper.py:716: UserWarning: allowzero=0 by default. In order to honor zero value in shape use allowzero=1\n",
      "  warnings.warn(\"allowzero=0 by default. In order to honor zero value in shape use allowzero=1\")\n"
     ]
    }
   ],
   "source": [
    "# export with native torch onnx\n",
    "torch.onnx.export(imported_model,     # model being run \n",
    "     dummy_input,                     # model input (or a tuple for multiple inputs) \n",
    "     \"wav2vec2-ctc.onnx\",             # where to save the model  \n",
    "     export_params=True,              # store the trained parameter weights inside the model file \n",
    "     opset_version=14,                # the ONNX version to export the model to. max supported in this notebook setup is 14\n",
    "     do_constant_folding=True,        # whether to execute constant folding for optimization \n",
    "     input_names = ['modelInput'],    # the model's input names \n",
    "     output_names = ['modelOutput'],  # the model's output names \n",
    "     dynamic_axes={'modelInput' : {0 : 'batch_size'},    # variable length axes \n",
    "                   'modelOutput' : {0 : 'batch_size'}}) "
   ]
  },
  {
   "cell_type": "code",
   "execution_count": 20,
   "id": "6c733167-d871-4a2a-bdf4-ccb66f224719",
   "metadata": {},
   "outputs": [
    {
     "name": "stdout",
     "output_type": "stream",
     "text": [
      "converted model to fp16 in: 1.528 s\n"
     ]
    }
   ],
   "source": [
    "# convert to fp16\n",
    "s = time.perf_counter()\n",
    "onnx_model = onnxmltools.utils.load_model(\"wav2vec2-ctc.onnx\")\n",
    "onnx_model = onnxmltools.utils.float16_converter.convert_float_to_float16(onnx_model)\n",
    "onnxmltools.utils.save_model(onnx_model, \"wav2vec2-ctc.fp16.onnx\")\n",
    "e = time.perf_counter()\n",
    "time.sleep(0.5)\n",
    "print(f\"converted model to fp16 in: {(e-s):.3f} s\")"
   ]
  },
  {
   "cell_type": "markdown",
   "id": "d0e76124-cc39-4e75-aae4-3f39cd3859f5",
   "metadata": {
    "tags": []
   },
   "source": [
    "## (not working on wav2vec) export PyTorch to TRT with torch_tensorrt\n",
    "\n",
    "torch_tensorrt (TRTorch) uses TorchScript as an intermediate format, so test conversion with `torch.jit.script()` and `torch.jit.trace()`.\n",
    "\n",
    "then, demonstrate working conversion on a small test model.\n",
    "\n",
    "however, kernel dies (segfault) when converting actual model..."
   ]
  },
  {
   "cell_type": "code",
   "execution_count": 21,
   "id": "2396e969-7e81-4a1c-aeac-d66921afe467",
   "metadata": {},
   "outputs": [
    {
     "name": "stderr",
     "output_type": "stream",
     "text": [
      "Removing weight_norm from ConvolutionalPositionalEmbedding\n"
     ]
    }
   ],
   "source": [
    "# scripting works\n",
    "scripted_model = torch.jit.script(imported_model)"
   ]
  },
  {
   "cell_type": "code",
   "execution_count": 22,
   "id": "813b99cd-831f-46b4-9258-59f5bea9ebb7",
   "metadata": {
    "tags": []
   },
   "outputs": [
    {
     "name": "stdout",
     "output_type": "stream",
     "text": [
      "error: RuntimeError: Only tensors, lists, tuples of tensors, or dictionary of tensors can be output from traced functions\n"
     ]
    }
   ],
   "source": [
    "# tracing raises an error\n",
    "try:\n",
    "    traced_model = torch.jit.trace(imported_model, dummy_input, strict=False)\n",
    "except Exception as e:\n",
    "    print(f\"error: {type(e).__name__}: {str(e)}\")"
   ]
  },
  {
   "cell_type": "code",
   "execution_count": 23,
   "id": "fddc670e-9394-4ef3-9486-1c3484b32f93",
   "metadata": {
    "tags": []
   },
   "outputs": [
    {
     "name": "stderr",
     "output_type": "stream",
     "text": [
      "WARNING: [Torch-TensorRT] - Cannot infer input type from calcuations in graph for input input.1. Assuming it is Float32. If not, specify input type explicity\n"
     ]
    }
   ],
   "source": [
    "test_model = torch.nn.Sequential(\n",
    "    torch.nn.Linear(100, 100),\n",
    "    torch.nn.Linear(100, 100),\n",
    "    torch.nn.ReLU()\n",
    ")\n",
    "\n",
    "trt_test_model = torch_tensorrt.compile(test_model, \n",
    "    inputs= [torch_tensorrt.Input((1, 100))],\n",
    "    enabled_precisions= {torch_tensorrt.dtype.float, torch_tensorrt.dtype.half} # Run with FP16\n",
    ")"
   ]
  },
  {
   "cell_type": "code",
   "execution_count": 24,
   "id": "2a0de3fc-f788-4541-be79-ec1b54c5a202",
   "metadata": {},
   "outputs": [],
   "source": [
    "# # THIS WILL FAIL...\n",
    "# trt_model = torch_tensorrt.compile(imported_model, \n",
    "#     inputs= [torch_tensorrt.Input((1, AUDIO_MAXLEN))],\n",
    "#     enabled_precisions= {torch_tensorrt.dtype.float, torch_tensorrt.dtype.half} # Run with FP16\n",
    "# )"
   ]
  },
  {
   "cell_type": "markdown",
   "id": "4e7ac54d-cf9b-433a-ae4a-4391c7ecb150",
   "metadata": {
    "tags": []
   },
   "source": [
    "### export ONNX to TensorRT"
   ]
  },
  {
   "cell_type": "code",
   "execution_count": 25,
   "id": "3811330a-869e-4bbe-8bf8-950b2327a7fd",
   "metadata": {},
   "outputs": [],
   "source": [
    "TRT_LOGGER = trt.Logger(trt.Logger.WARNING)\n",
    "trt_runtime = trt.Runtime(TRT_LOGGER)"
   ]
  },
  {
   "cell_type": "code",
   "execution_count": 26,
   "id": "32885630-80c5-48aa-a36b-699845b28268",
   "metadata": {},
   "outputs": [],
   "source": [
    "# export helper functions for tensorRT\n",
    "# adapted for wav2vec from https://developer.nvidia.com/blog/speeding-up-deep-learning-inference-using-tensorflow-onnx-and-tensorrt/\n",
    "\n",
    "def build_engine(onnx_path, shape):\n",
    "    with trt.Builder(TRT_LOGGER) as builder, \\\n",
    "        builder.create_network(1) as network, \\\n",
    "        builder.create_builder_config() as config, \\\n",
    "        trt.OnnxParser(network, TRT_LOGGER) as parser:\n",
    "        config.max_workspace_size = (256 << 20)\n",
    "        with open(onnx_path, 'rb') as model:\n",
    "            parser.parse(model.read())\n",
    "            network.get_input(0).shape = shape\n",
    "            engine = builder.build_engine(network, config)\n",
    "            return engine\n",
    "\n",
    "def save_engine(engine, file_name):\n",
    "    buf = engine.serialize()\n",
    "    with open(file_name, 'wb') as f:\n",
    "        f.write(buf)\n",
    "        \n",
    "def load_engine(trt_runtime, plan_path):\n",
    "    with open(plan_path, 'rb') as f:\n",
    "        engine_data = f.read()\n",
    "    engine = trt_runtime.deserialize_cuda_engine(engine_data)\n",
    "    return engine"
   ]
  },
  {
   "cell_type": "code",
   "execution_count": 27,
   "id": "b07c00f5-f870-47bd-8fe4-40054b9d4742",
   "metadata": {},
   "outputs": [
    {
     "name": "stdout",
     "output_type": "stream",
     "text": [
      "[01/15/2022-05:50:34] [TRT] [W] parsers/onnx/onnx2trt_utils.cpp:364: Your ONNX model has been generated with INT64 weights, while TensorRT does not natively support INT64. Attempting to cast down to INT32.\n"
     ]
    },
    {
     "name": "stderr",
     "output_type": "stream",
     "text": [
      "/tmp/ipykernel_1070/44071790.py:13: DeprecationWarning: Use build_serialized_network instead.\n",
      "  engine = builder.build_engine(network, config)\n"
     ]
    },
    {
     "name": "stdout",
     "output_type": "stream",
     "text": [
      "time for trt export: 29.813 s\n",
      "model exported as  : wav2vec2-ctc.trt\n"
     ]
    }
   ],
   "source": [
    "s = time.perf_counter()\n",
    "\n",
    "onnx_file_name = 'wav2vec2-ctc.onnx'\n",
    "tensorrt_file_name = 'wav2vec2-ctc.trt'\n",
    "input_shape = [1, AUDIO_MAXLEN]\n",
    "\n",
    "engine = build_engine(onnx_file_name, input_shape)\n",
    "save_engine(engine, tensorrt_file_name) \n",
    "\n",
    "e = time.perf_counter()\n",
    "time.sleep(0.5)\n",
    "print(f\"time for trt export: {e-s:.3f} s\")\n",
    "print(f\"model exported as  : {tensorrt_file_name}\")"
   ]
  },
  {
   "cell_type": "code",
   "execution_count": 28,
   "id": "061f10e6-76ae-4f12-8cb3-dee0e5480217",
   "metadata": {},
   "outputs": [
    {
     "name": "stderr",
     "output_type": "stream",
     "text": [
      "/tmp/ipykernel_1070/44071790.py:13: DeprecationWarning: Use build_serialized_network instead.\n",
      "  engine = builder.build_engine(network, config)\n"
     ]
    },
    {
     "name": "stdout",
     "output_type": "stream",
     "text": [
      "time for trt export: 26.269 s\n",
      "model exported as wav2vec2-ctc.fp16.trt\n"
     ]
    }
   ],
   "source": [
    "s = time.perf_counter()\n",
    "\n",
    "onnx_fp16_file_name = 'wav2vec2-ctc.fp16.onnx'\n",
    "tensorrt_fp16_file_name = 'wav2vec2-ctc.fp16.trt'\n",
    "input_shape = [1, AUDIO_MAXLEN]\n",
    "\n",
    "engine = build_engine(onnx_fp16_file_name, input_shape)\n",
    "save_engine(engine, tensorrt_fp16_file_name) \n",
    "\n",
    "e = time.perf_counter()\n",
    "time.sleep(0.5)\n",
    "print(f\"time for trt export: {e-s:.3f} s\")\n",
    "print(f\"model exported as {tensorrt_fp16_file_name}\")"
   ]
  },
  {
   "cell_type": "markdown",
   "id": "99d67724-7a0d-4b9a-bec4-aacec0a9ea12",
   "metadata": {},
   "source": [
    "# ======================== INFERENCE ========================"
   ]
  },
  {
   "cell_type": "code",
   "execution_count": 29,
   "id": "0e15a548-c315-4a41-a535-8eb45ee2ad30",
   "metadata": {},
   "outputs": [],
   "source": [
    "test_iters = 512"
   ]
  },
  {
   "cell_type": "markdown",
   "id": "ebdd0ac3-036a-44a0-b21e-8e9cfd8550ab",
   "metadata": {
    "tags": []
   },
   "source": [
    "## test PyTorch vs ONNX inference"
   ]
  },
  {
   "cell_type": "code",
   "execution_count": 31,
   "id": "d8de0230-a631-4530-9f5f-9da75e772166",
   "metadata": {},
   "outputs": [
    {
     "name": "stderr",
     "output_type": "stream",
     "text": [
      "100%|███████████████████████████████████████████████████████████████████| 512/512 [00:06<00:00, 77.10it/s]\n"
     ]
    },
    {
     "name": "stdout",
     "output_type": "stream",
     "text": [
      "time for torch GPU inference: 12.977 ms per inference\n"
     ]
    }
   ],
   "source": [
    "s = time.perf_counter()\n",
    "with torch.no_grad():\n",
    "    for _ in tqdm.trange(test_iters):\n",
    "        prediction = gpu_model(torch.from_numpy(speech_input).to(\"cuda\"))\n",
    "e = time.perf_counter()\n",
    "time.sleep(0.5)\n",
    "torch_inference = e - s\n",
    "print(f\"time for torch GPU inference: {torch_inference*1000./test_iters:.3f} ms per inference\")"
   ]
  },
  {
   "cell_type": "code",
   "execution_count": 32,
   "id": "30dc82ba-7c05-4dab-8e94-3522b9b345e9",
   "metadata": {},
   "outputs": [],
   "source": [
    "# unallocate this vram (it won't be released though fyi)\n",
    "del gpu_model"
   ]
  },
  {
   "cell_type": "code",
   "execution_count": 33,
   "id": "f7883517-9a60-4bc7-a763-6ad97e03fa08",
   "metadata": {},
   "outputs": [
    {
     "name": "stdout",
     "output_type": "stream",
     "text": [
      "GPU 0 stats:\n",
      "total    : 11534336.00 MB\n",
      "free     :  6459072.00 MB\n",
      "used     :  5075264.00 MB\n"
     ]
    }
   ],
   "source": [
    "h = nvmlDeviceGetHandleByIndex(0)\n",
    "info = nvmlDeviceGetMemoryInfo(h)\n",
    "print(\"GPU 0 stats:\")\n",
    "print(f'total    : {info.total/1024.:>11.2f} MB')\n",
    "print(f'free     : {info.free/1024.:>11.2f} MB')\n",
    "print(f'used     : {info.used/1024.:>11.2f} MB')"
   ]
  },
  {
   "cell_type": "markdown",
   "id": "13f13147-37b8-4eda-b1a1-e172e6a68314",
   "metadata": {},
   "source": [
    "### ONNX"
   ]
  },
  {
   "cell_type": "code",
   "execution_count": 34,
   "id": "852d68a1-3958-4e1a-9ba0-80b0898d4b9a",
   "metadata": {},
   "outputs": [
    {
     "name": "stdout",
     "output_type": "stream",
     "text": [
      "loading model 'wav2vec2-ctc.onnx'\n"
     ]
    },
    {
     "name": "stderr",
     "output_type": "stream",
     "text": [
      "/usr/local/lib/python3.8/dist-packages/onnxruntime/capi/onnxruntime_inference_collection.py:350: UserWarning: Deprecation warning. This ORT build has ['CUDAExecutionProvider', 'CPUExecutionProvider'] enabled. The next release (ORT 1.10) will require explicitly setting the providers parameter (as opposed to the current behavior of providers getting set/registered by default based on the build flags) when instantiating InferenceSession.For example, onnxruntime.InferenceSession(..., providers=[\"CUDAExecutionProvider\"], ...)\n",
      "  warnings.warn(\"Deprecation warning. This ORT build has {} enabled. \".format(available_providers) +\n"
     ]
    }
   ],
   "source": [
    "print(f\"loading model '{onnx_file_name}'\")\n",
    "ort_model = onnxruntime.InferenceSession(onnx_file_name)"
   ]
  },
  {
   "cell_type": "code",
   "execution_count": 35,
   "id": "b1e843ee-0d65-4de4-80c7-003bf10152c3",
   "metadata": {},
   "outputs": [
    {
     "name": "stdout",
     "output_type": "stream",
     "text": [
      "(1, 312, 32)\n"
     ]
    }
   ],
   "source": [
    "speech = np.copy(speech_input).astype(np.float32)\n",
    "ort_inputs = {\"modelInput\": speech}\n",
    "ort_outs = ort_model.run(None, ort_inputs)\n",
    "ort32_prediction = np.array(ort_outs)[0]\n",
    "print(ort32_prediction.shape)"
   ]
  },
  {
   "cell_type": "code",
   "execution_count": 36,
   "id": "14383929-2b4f-47fc-82cb-d53930b571a0",
   "metadata": {},
   "outputs": [
    {
     "name": "stderr",
     "output_type": "stream",
     "text": [
      "100%|███████████████████████████████████████████████████████████████████| 512/512 [00:07<00:00, 66.29it/s]\n"
     ]
    },
    {
     "name": "stdout",
     "output_type": "stream",
     "text": [
      "time for onnx-runtime fp32 GPU inference: 15.090 ms per inference\n"
     ]
    }
   ],
   "source": [
    "s = time.perf_counter()\n",
    "for _ in tqdm.trange(test_iters):\n",
    "    ort_outs = ort_model.run(None, ort_inputs)\n",
    "e = time.perf_counter()\n",
    "time.sleep(0.5)\n",
    "ort32_inference = e - s\n",
    "print(f\"time for onnx-runtime fp32 GPU inference: {ort32_inference*1000./test_iters:.3f} ms per inference\")"
   ]
  },
  {
   "cell_type": "code",
   "execution_count": 37,
   "id": "1f805ca2-05e9-41a4-9560-518354e0ff49",
   "metadata": {},
   "outputs": [],
   "source": [
    "del ort_model\n",
    "time.sleep(1)"
   ]
  },
  {
   "cell_type": "code",
   "execution_count": 38,
   "id": "fb399b38-4dab-48e9-a67c-6b67718f0a1e",
   "metadata": {},
   "outputs": [
    {
     "name": "stdout",
     "output_type": "stream",
     "text": [
      "GPU 0 stats:\n",
      "total    : 11534336.00 MB\n",
      "free     :  6405824.00 MB\n",
      "used     :  5128512.00 MB\n"
     ]
    }
   ],
   "source": [
    "h = nvmlDeviceGetHandleByIndex(0)\n",
    "info = nvmlDeviceGetMemoryInfo(h)\n",
    "print(\"GPU 0 stats:\")\n",
    "print(f'total    : {info.total/1024.:>11.2f} MB')\n",
    "print(f'free     : {info.free/1024.:>11.2f} MB')\n",
    "print(f'used     : {info.used/1024.:>11.2f} MB')"
   ]
  },
  {
   "cell_type": "markdown",
   "id": "b099b30e-6bea-4c12-b02d-5f04fde83fac",
   "metadata": {
    "tags": []
   },
   "source": [
    "### ONNX FP16"
   ]
  },
  {
   "cell_type": "code",
   "execution_count": 39,
   "id": "31cac2c7-a2a9-4375-9ef6-ef036b68476c",
   "metadata": {},
   "outputs": [
    {
     "name": "stdout",
     "output_type": "stream",
     "text": [
      "loading model 'wav2vec2-ctc.fp16.onnx'\n"
     ]
    }
   ],
   "source": [
    "print(f\"loading model '{onnx_fp16_file_name}'\")\n",
    "ort16_model = onnxruntime.InferenceSession(onnx_fp16_file_name)"
   ]
  },
  {
   "cell_type": "code",
   "execution_count": 40,
   "id": "c71e5ea4-e8b2-4fb8-aeac-61550eb3a02c",
   "metadata": {},
   "outputs": [
    {
     "name": "stdout",
     "output_type": "stream",
     "text": [
      "(1, 312, 32)\n"
     ]
    }
   ],
   "source": [
    "speech16 = np.copy(speech_input).astype(np.float16)\n",
    "ort16_inputs = {\"modelInput\": speech16}\n",
    "ort16_outs = ort16_model.run(None, ort16_inputs)\n",
    "ort16_prediction = np.array(ort16_outs[0])\n",
    "print(ort16_prediction.shape)"
   ]
  },
  {
   "cell_type": "code",
   "execution_count": 41,
   "id": "2f41919e-9173-4006-b20b-85a7a40f2360",
   "metadata": {},
   "outputs": [
    {
     "name": "stderr",
     "output_type": "stream",
     "text": [
      "100%|██████████████████████████████████████████████████████████████████| 512/512 [00:03<00:00, 129.84it/s]\n"
     ]
    },
    {
     "name": "stdout",
     "output_type": "stream",
     "text": [
      "time for onnx-runtime fp16 GPU inference: 7.707 ms per inference\n"
     ]
    }
   ],
   "source": [
    "ort16_inputs = {\"modelInput\": speech16}\n",
    "s = time.perf_counter()\n",
    "for _ in tqdm.trange(test_iters):\n",
    "    ort_outs = ort16_model.run(None, ort16_inputs)\n",
    "e = time.perf_counter()\n",
    "time.sleep(0.5)\n",
    "ort16_inference = e - s\n",
    "print(f\"time for onnx-runtime fp16 GPU inference: {ort16_inference*1000./test_iters:.3f} ms per inference\")"
   ]
  },
  {
   "cell_type": "code",
   "execution_count": 42,
   "id": "1cac3de6-61c7-4645-a424-8f97b575d28c",
   "metadata": {},
   "outputs": [],
   "source": [
    "del ort16_model\n",
    "time.sleep(1)"
   ]
  },
  {
   "cell_type": "code",
   "execution_count": 43,
   "id": "56763e1b-9ae0-4a58-9911-3384134e0240",
   "metadata": {},
   "outputs": [
    {
     "name": "stdout",
     "output_type": "stream",
     "text": [
      "GPU 0 stats:\n",
      "total    : 11534336.00 MB\n",
      "free     :  6405824.00 MB\n",
      "used     :  5128512.00 MB\n"
     ]
    }
   ],
   "source": [
    "h = nvmlDeviceGetHandleByIndex(0)\n",
    "info = nvmlDeviceGetMemoryInfo(h)\n",
    "print(\"GPU 0 stats:\")\n",
    "print(f'total    : {info.total/1024.:>11.2f} MB')\n",
    "print(f'free     : {info.free/1024.:>11.2f} MB')\n",
    "print(f'used     : {info.used/1024.:>11.2f} MB')"
   ]
  },
  {
   "cell_type": "markdown",
   "id": "49be5963-8d81-4d3c-8048-caa8c4c4d587",
   "metadata": {
    "tags": []
   },
   "source": [
    "### TensorRT"
   ]
  },
  {
   "cell_type": "code",
   "execution_count": 44,
   "id": "d03475d6-504d-48a4-bf4c-595f854548ec",
   "metadata": {},
   "outputs": [],
   "source": [
    "# stackoverflow coming through to fix nvidia's example\n",
    "# https://stackoverflow.com/questions/59280745/inference-with-tensorrt-engine-file-on-python\n",
    "\n",
    "class HostDeviceMem(object):\n",
    "    def __init__(self, host_mem, device_mem):\n",
    "        self.host = host_mem\n",
    "        self.device = device_mem\n",
    "\n",
    "    def __str__(self):\n",
    "        return \"Host:\\n\" + str(self.host) + \"\\nDevice:\\n\" + str(self.device)\n",
    "\n",
    "    def __repr__(self):\n",
    "        return self.__str__()\n",
    "\n",
    "    \n",
    "class TRTModel:\n",
    "    \n",
    "    def __init__(self,engine_path, max_batch_size=1, dtype=np.float32):\n",
    "        \n",
    "        self.engine_path = engine_path\n",
    "        self.dtype = dtype\n",
    "        self.logger = trt.Logger(trt.Logger.WARNING)\n",
    "        self.runtime = trt.Runtime(self.logger)\n",
    "        self.engine = self.load_engine(self.runtime, self.engine_path)\n",
    "        self.max_batch_size = max_batch_size\n",
    "        self.inputs, self.outputs, self.bindings, self.stream = self.allocate_buffers()\n",
    "        self.context = self.engine.create_execution_context()\n",
    "    \n",
    "    @staticmethod\n",
    "    def load_engine(trt_runtime, engine_path):\n",
    "        trt.init_libnvinfer_plugins(None, \"\")             \n",
    "        with open(engine_path, 'rb') as f:\n",
    "            engine_data = f.read()\n",
    "        engine = trt_runtime.deserialize_cuda_engine(engine_data)\n",
    "        return engine\n",
    "    \n",
    "    def allocate_buffers(self):\n",
    "        \n",
    "        inputs = []\n",
    "        outputs = []\n",
    "        bindings = []\n",
    "        stream = cuda.Stream()\n",
    "        \n",
    "        for binding in self.engine:\n",
    "            size = trt.volume(self.engine.get_binding_shape(binding)) * self.max_batch_size\n",
    "            host_mem = cuda.pagelocked_empty(size, self.dtype)\n",
    "            device_mem = cuda.mem_alloc(host_mem.nbytes)\n",
    "            \n",
    "            bindings.append(int(device_mem))\n",
    "\n",
    "            if self.engine.binding_is_input(binding):\n",
    "                inputs.append(HostDeviceMem(host_mem, device_mem))\n",
    "            else:\n",
    "                outputs.append(HostDeviceMem(host_mem, device_mem))\n",
    "        \n",
    "        return inputs, outputs, bindings, stream\n",
    "       \n",
    "            \n",
    "    def __call__(self,x:np.ndarray, dim_1=312, dim_2=32):\n",
    "        x = x.astype(self.dtype)\n",
    "        np.copyto(self.inputs[0].host,x.ravel())\n",
    "        for inp in self.inputs:\n",
    "            cuda.memcpy_htod_async(inp.device, inp.host, self.stream)\n",
    "        self.context.execute_async(batch_size=self.max_batch_size, bindings=self.bindings, stream_handle=self.stream.handle)\n",
    "        for out in self.outputs:\n",
    "            cuda.memcpy_dtoh_async(out.host, out.device, self.stream) \n",
    "        self.stream.synchronize()\n",
    "        return [out.host.reshape(self.max_batch_size, dim_1, dim_2) for out in self.outputs]\n"
   ]
  },
  {
   "cell_type": "markdown",
   "id": "fd181e1b-eb15-44e1-ab90-7f5cd54664c2",
   "metadata": {},
   "source": [
    "### FP32 model"
   ]
  },
  {
   "cell_type": "code",
   "execution_count": 45,
   "id": "90b42a86-78b9-4d24-afc5-7fd0f0f4fcff",
   "metadata": {},
   "outputs": [
    {
     "name": "stdout",
     "output_type": "stream",
     "text": [
      "loading model 'wav2vec2-ctc.trt'\n",
      "(1, 312, 32)\n"
     ]
    }
   ],
   "source": [
    "print(f\"loading model '{tensorrt_file_name}'\")\n",
    "speech = np.copy(speech_input).astype(np.float32)\n",
    "model = TRTModel(tensorrt_file_name)\n",
    "trt32_prediction = model(speech)[0]\n",
    "print(trt32_prediction.shape)"
   ]
  },
  {
   "cell_type": "code",
   "execution_count": 46,
   "id": "bbbd93b0-965d-4adf-9852-f4ae6956af82",
   "metadata": {},
   "outputs": [
    {
     "name": "stderr",
     "output_type": "stream",
     "text": [
      "100%|███████████████████████████████████████████████████████████████████| 512/512 [00:05<00:00, 94.93it/s]\n"
     ]
    },
    {
     "name": "stdout",
     "output_type": "stream",
     "text": [
      "time for TensorRT fp32 GPU inference: 10.539 ms per inference\n"
     ]
    }
   ],
   "source": [
    "s = time.perf_counter()\n",
    "for _ in tqdm.trange(test_iters):\n",
    "    out = model(speech)\n",
    "e = time.perf_counter()\n",
    "time.sleep(0.5)\n",
    "trt32_inference = e - s\n",
    "print(f\"time for TensorRT fp32 GPU inference: {trt32_inference*1000./test_iters:.3f} ms per inference\")"
   ]
  },
  {
   "cell_type": "code",
   "execution_count": 47,
   "id": "9780dba1-24fe-4215-a80b-fcb9efeffbe3",
   "metadata": {},
   "outputs": [],
   "source": [
    "del model\n",
    "time.sleep(0.5)"
   ]
  },
  {
   "cell_type": "code",
   "execution_count": 48,
   "id": "92cbe753-3f24-4405-8748-f19838a35487",
   "metadata": {},
   "outputs": [
    {
     "name": "stdout",
     "output_type": "stream",
     "text": [
      "GPU 0 stats:\n",
      "total    : 11534336.00 MB\n",
      "free     :  6405824.00 MB\n",
      "used     :  5128512.00 MB\n"
     ]
    }
   ],
   "source": [
    "h = nvmlDeviceGetHandleByIndex(0)\n",
    "info = nvmlDeviceGetMemoryInfo(h)\n",
    "print(\"GPU 0 stats:\")\n",
    "print(f'total    : {info.total/1024.:>11.2f} MB')\n",
    "print(f'free     : {info.free/1024.:>11.2f} MB')\n",
    "print(f'used     : {info.used/1024.:>11.2f} MB')"
   ]
  },
  {
   "cell_type": "markdown",
   "id": "c383f4c4-583d-428a-800b-1a837bd92839",
   "metadata": {},
   "source": [
    "### FP16 model"
   ]
  },
  {
   "cell_type": "code",
   "execution_count": 49,
   "id": "8d73a9c3-c950-4021-b743-cf81c01e5b30",
   "metadata": {},
   "outputs": [
    {
     "name": "stdout",
     "output_type": "stream",
     "text": [
      "loading model 'wav2vec2-ctc.trt' as fp16\n",
      "(1, 312, 32)\n"
     ]
    }
   ],
   "source": [
    "print(f\"loading model '{tensorrt_file_name}' as fp16\")\n",
    "speech_fp16 = np.copy(speech_input).astype(np.float16)\n",
    "model_fp16 = TRTModel(tensorrt_file_name, dtype=np.float16)\n",
    "trt16_prediction = model_fp16(speech_fp16)[0]\n",
    "print(trt16_prediction.shape)"
   ]
  },
  {
   "cell_type": "code",
   "execution_count": 50,
   "id": "e9146fe0-acdc-4a13-89f4-9e6908281f01",
   "metadata": {},
   "outputs": [
    {
     "name": "stderr",
     "output_type": "stream",
     "text": [
      "100%|███████████████████████████████████████████████████████████████████| 512/512 [00:05<00:00, 96.51it/s]\n"
     ]
    },
    {
     "name": "stdout",
     "output_type": "stream",
     "text": [
      "time for TensorRT fp16 GPU inference: 10.366 ms per inference\n"
     ]
    }
   ],
   "source": [
    "s = time.perf_counter()\n",
    "for _ in tqdm.trange(test_iters):\n",
    "    out_fp16 = out = model_fp16(speech_fp16)\n",
    "e = time.perf_counter()\n",
    "time.sleep(0.5)\n",
    "trt16_inference = e - s\n",
    "print(f\"time for TensorRT fp16 GPU inference: {trt16_inference*1000./test_iters:.3f} ms per inference\")"
   ]
  },
  {
   "cell_type": "markdown",
   "id": "6937e0b1-948c-4ef0-91a4-915a0621315b",
   "metadata": {},
   "source": [
    "# ======================== EVALUATION ========================"
   ]
  },
  {
   "cell_type": "code",
   "execution_count": 51,
   "id": "80366e1b-68b6-4359-8a92-69324e63d209",
   "metadata": {},
   "outputs": [],
   "source": [
    "cer_metric = load_metric(\"cer\")"
   ]
  },
  {
   "cell_type": "code",
   "execution_count": 63,
   "id": "5894ebe0-5443-4185-b871-7e21879a076b",
   "metadata": {},
   "outputs": [],
   "source": [
    "def softmax_prediction(logits):\n",
    "    logits = np.float32(logits)\n",
    "    return np.argmax(torch.nn.Softmax(dim=-1)(torch.from_numpy(logits)).numpy(), axis=-1)"
   ]
  },
  {
   "cell_type": "code",
   "execution_count": 53,
   "id": "98d43337-39cd-4ad3-8f38-2c005368605f",
   "metadata": {},
   "outputs": [
    {
     "name": "stdout",
     "output_type": "stream",
     "text": [
      "(1, 312, 32)\n",
      "(1, 312, 32)\n",
      "(1, 312, 32)\n",
      "(1, 312, 32)\n",
      "(1, 312, 32)\n"
     ]
    }
   ],
   "source": [
    "print(torch_prediction.shape)\n",
    "print(ort32_prediction.shape)\n",
    "print(ort16_prediction.shape)\n",
    "print(trt32_prediction.shape)\n",
    "print(trt16_prediction.shape)"
   ]
  },
  {
   "cell_type": "code",
   "execution_count": 54,
   "id": "a2259556-095e-47b5-bc99-98b8cbd34882",
   "metadata": {},
   "outputs": [
    {
     "name": "stdout",
     "output_type": "stream",
     "text": [
      "raw logit output same as pytorch?\n",
      "ort fp32: False\n",
      "ort fp16: False\n",
      "trt fp32: False\n",
      "trt fp16: False\n"
     ]
    },
    {
     "name": "stderr",
     "output_type": "stream",
     "text": [
      "/usr/local/lib/python3.8/dist-packages/numpy/core/numeric.py:2366: RuntimeWarning: invalid value encountered in multiply\n",
      "  y = y * ones_like(cond)\n"
     ]
    }
   ],
   "source": [
    "# compare logits (raw outputs)\n",
    "print(\"raw logit output same as pytorch?\")\n",
    "print(\"ort fp32:\", np.allclose(torch_prediction, ort32_prediction, rtol=1e-03, atol=1e-05))\n",
    "print(\"ort fp16:\", np.allclose(torch_prediction, ort16_prediction, rtol=1e-03, atol=1e-05))\n",
    "print(\"trt fp32:\", np.allclose(torch_prediction, trt32_prediction, rtol=1e-03, atol=1e-05))\n",
    "print(\"trt fp16:\", np.allclose(torch_prediction, trt16_prediction, rtol=1e-03, atol=1e-05))"
   ]
  },
  {
   "cell_type": "code",
   "execution_count": 64,
   "id": "be43e9d2-4bd1-4641-afe4-5c66b9e42b7f",
   "metadata": {},
   "outputs": [
    {
     "name": "stdout",
     "output_type": "stream",
     "text": [
      "softmax predictions same as pytorch?\n",
      "ort fp32: True\n",
      "ort fp16: False\n",
      "trt fp32: True\n",
      "trt fp16: False\n"
     ]
    }
   ],
   "source": [
    "# compare softmax argmaxes (predictions)\n",
    "print(\"softmax predictions same as pytorch?\")\n",
    "print(\"ort fp32:\", np.allclose(softmax_prediction(torch_prediction), softmax_prediction(ort32_prediction)))\n",
    "print(\"ort fp16:\", np.allclose(softmax_prediction(torch_prediction), softmax_prediction(ort16_prediction)))\n",
    "print(\"trt fp32:\", np.allclose(softmax_prediction(torch_prediction), softmax_prediction(trt32_prediction)))\n",
    "print(\"trt fp16:\", np.allclose(softmax_prediction(torch_prediction), softmax_prediction(trt16_prediction)))"
   ]
  },
  {
   "cell_type": "code",
   "execution_count": 67,
   "id": "66866ebf-0050-4b36-bf7b-1b7d7c8ac5a8",
   "metadata": {},
   "outputs": [
    {
     "data": {
      "text/plain": [
       "'MISTER QUILTER IS THE APOSTLE OF THE MIDDLE CLASSES AND WE ARE GLAD TO WELCOME HIS GOSPEL'"
      ]
     },
     "execution_count": 67,
     "metadata": {},
     "output_type": "execute_result"
    }
   ],
   "source": [
    "processor.decode(softmax_prediction(torch_prediction)[0])"
   ]
  },
  {
   "cell_type": "code",
   "execution_count": 74,
   "id": "95dda7c8-2f58-476b-bd9f-076602331da6",
   "metadata": {},
   "outputs": [
    {
     "data": {
      "text/plain": [
       "'MISTER QUILTER IS THE APOSTLE OF THE MIDDLE CLASSES AND WE ARE GLAD TO WELCOME HIS GOSPEL'"
      ]
     },
     "execution_count": 74,
     "metadata": {},
     "output_type": "execute_result"
    }
   ],
   "source": [
    "processor.decode(softmax_prediction(ort32_prediction)[0])"
   ]
  },
  {
   "cell_type": "code",
   "execution_count": 75,
   "id": "5b29550f-bec4-470c-b486-b4858ce5a18a",
   "metadata": {},
   "outputs": [
    {
     "data": {
      "text/plain": [
       "'MISTER QUILTER IS THE APOSTLE OF THE MIDDLE CLASSES AND WE ARE GLAD TO WELCOME HIS GOSPEL'"
      ]
     },
     "execution_count": 75,
     "metadata": {},
     "output_type": "execute_result"
    }
   ],
   "source": [
    "processor.decode(softmax_prediction(trt32_prediction)[0])"
   ]
  },
  {
   "cell_type": "code",
   "execution_count": 69,
   "id": "39a573e6-bc35-435f-9559-574ddb26b7a0",
   "metadata": {},
   "outputs": [
    {
     "data": {
      "text/plain": [
       "''"
      ]
     },
     "execution_count": 69,
     "metadata": {},
     "output_type": "execute_result"
    }
   ],
   "source": [
    "processor.decode(softmax_prediction(ort16_prediction)[0])"
   ]
  },
  {
   "cell_type": "code",
   "execution_count": 70,
   "id": "7625c6d3-25b5-483e-9417-e0079498c0d5",
   "metadata": {},
   "outputs": [
    {
     "data": {
      "text/plain": [
       "'DFFX DYW</s>TX TIWBOKOQIXB BQISKFWYFTQ </s>KWXUIU UYBFOSIUIKBXUU QYUUXOSODQDYYYYQYQUQYQQQYYQQQYYYQYQQQFXWUUF</s>FIDSTDWXKWKITFTFTFBYFDUUX SFWOXBWFWWDYKB YO OX YUQOOSWKW XWSWF</s>OXTYUOOWX'"
      ]
     },
     "execution_count": 70,
     "metadata": {},
     "output_type": "execute_result"
    }
   ],
   "source": [
    "processor.decode(softmax_prediction(trt16_prediction)[0])"
   ]
  },
  {
   "cell_type": "code",
   "execution_count": 71,
   "id": "3c54a32a-8907-47a3-8d4d-d54018abcb78",
   "metadata": {},
   "outputs": [
    {
     "name": "stdout",
     "output_type": "stream",
     "text": [
      "ort fp16 CER vs pytorch: 0.28717201166180756\n"
     ]
    }
   ],
   "source": [
    "final_score = cer_metric.compute(predictions=softmax_prediction(ort16_prediction), references=softmax_prediction(torch_prediction))\n",
    "print(\"ort fp16 CER vs pytorch:\", final_score)"
   ]
  },
  {
   "cell_type": "code",
   "execution_count": 72,
   "id": "baa43643-cd2a-49b8-a9bc-87067b730392",
   "metadata": {},
   "outputs": [
    {
     "name": "stdout",
     "output_type": "stream",
     "text": [
      "trt fp16 CER vs pytorch predictions: 0.4912536443148688\n"
     ]
    }
   ],
   "source": [
    "final_score = cer_metric.compute(predictions=softmax_prediction(trt16_prediction), references=softmax_prediction(torch_prediction))\n",
    "print(\"trt fp16 CER vs pytorch predictions:\", final_score)"
   ]
  },
  {
   "cell_type": "code",
   "execution_count": 58,
   "id": "f366555f-e001-4b1c-8c05-29555b248f73",
   "metadata": {},
   "outputs": [
    {
     "name": "stdout",
     "output_type": "stream",
     "text": [
      "wav2vec 2 results:\n",
      "pytorch      fp32 inference: 12.977 ms per request\n",
      "onnx-runtime fp32 inference: 15.090 ms per request\tresult is close? False\tnan issue?: False\n",
      "onnx-runtime fp16 inference:  7.707 ms per request\tresult is close? False\tnan issue?: False\n",
      "tensorRT     fp32 inference: 10.539 ms per request\tresult is close? False\tnan issue?: False\n",
      "tensorRT     fp16 inference: 10.366 ms per request\tresult is close? False\tnan issue?: True\n"
     ]
    }
   ],
   "source": [
    "print(\"wav2vec 2 results:\")\n",
    "print(f\"pytorch      fp32 inference: {torch_inference*1000./test_iters:>6.3f} ms per request\")\n",
    "print(f\"onnx-runtime fp32 inference: {ort32_inference*1000./test_iters:>6.3f} ms per request\\tresult is close? {np.allclose(torch_prediction, ort32_prediction, rtol=1e-03, atol=1e-05)}\\tnan issue?: {np.isnan(ort32_prediction).any()}\")\n",
    "print(f\"onnx-runtime fp16 inference: {ort16_inference*1000./test_iters:>6.3f} ms per request\\tresult is close? {np.allclose(torch_prediction, ort16_prediction, rtol=1e-03, atol=1e-05)}\\tnan issue?: {np.isnan(ort16_prediction).any()}\")\n",
    "print(f\"tensorRT     fp32 inference: {trt32_inference*1000./test_iters:>6.3f} ms per request\\tresult is close? {np.allclose(torch_prediction, trt32_prediction, rtol=1e-03, atol=1e-05)}\\tnan issue?: {np.isnan(trt32_prediction).any()}\")\n",
    "print(f\"tensorRT     fp16 inference: {trt16_inference*1000./test_iters:>6.3f} ms per request\\tresult is close? {np.allclose(torch_prediction, trt16_prediction, rtol=1e-03, atol=1e-05)}\\tnan issue?: {np.isnan(trt16_prediction).any()}\")"
   ]
  },
  {
   "cell_type": "code",
   "execution_count": null,
   "id": "7f7de689-1ccb-47f9-a12f-1ec4a8b872ff",
   "metadata": {},
   "outputs": [],
   "source": []
  }
 ],
 "metadata": {
  "kernelspec": {
   "display_name": "Python 3 (ipykernel)",
   "language": "python",
   "name": "python3"
  },
  "language_info": {
   "codemirror_mode": {
    "name": "ipython",
    "version": 3
   },
   "file_extension": ".py",
   "mimetype": "text/x-python",
   "name": "python",
   "nbconvert_exporter": "python",
   "pygments_lexer": "ipython3",
   "version": "3.8.10"
  }
 },
 "nbformat": 4,
 "nbformat_minor": 5
}
